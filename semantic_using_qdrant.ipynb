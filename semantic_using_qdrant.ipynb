{
 "cells": [
  {
   "cell_type": "code",
   "execution_count": 1,
   "metadata": {},
   "outputs": [],
   "source": [
    "from qdrant_client import QdrantClient\n",
    "from qdrant_client.http import models\n",
    "import numpy as np\n",
    "from faker import Faker"
   ]
  },
  {
   "cell_type": "code",
   "execution_count": 2,
   "metadata": {},
   "outputs": [
    {
     "data": {
      "text/plain": [
       "<qdrant_client.qdrant_client.QdrantClient at 0x2bc6102dc70>"
      ]
     },
     "execution_count": 2,
     "metadata": {},
     "output_type": "execute_result"
    }
   ],
   "source": [
    "client  = QdrantClient(host=\"localhost\",port=6333)\n",
    "client"
   ]
  },
  {
   "cell_type": "code",
   "execution_count": 5,
   "metadata": {},
   "outputs": [
    {
     "data": {
      "text/plain": [
       "True"
      ]
     },
     "execution_count": 5,
     "metadata": {},
     "output_type": "execute_result"
    }
   ],
   "source": [
    "collection_name = \"practice_collection\"\n",
    "client.create_collection(\n",
    "    collection_name=collection_name,\n",
    "    vectors_config = models.VectorParams(size=100,distance=models.Distance.COSINE)\n",
    ")"
   ]
  },
  {
   "cell_type": "code",
   "execution_count": 9,
   "metadata": {},
   "outputs": [],
   "source": [
    "# Dummy vectors \n",
    "vectors = np.random.uniform(low=-1,high=1,size=(1000,100))\n",
    "indx = list(range(len(vectors)))"
   ]
  },
  {
   "cell_type": "code",
   "execution_count": 14,
   "metadata": {},
   "outputs": [
    {
     "data": {
      "text/plain": [
       "UpdateResult(operation_id=0, status=<UpdateStatus.COMPLETED: 'completed'>)"
      ]
     },
     "execution_count": 14,
     "metadata": {},
     "output_type": "execute_result"
    }
   ],
   "source": [
    "client.upsert(\n",
    "    collection_name = collection_name,\n",
    "    points= models.Batch(\n",
    "        ids = indx,\n",
    "        vectors = vectors.tolist()   \n",
    "    )\n",
    ")"
   ]
  },
  {
   "cell_type": "code",
   "execution_count": 15,
   "metadata": {},
   "outputs": [
    {
     "data": {
      "text/plain": [
       "[Record(id=1, payload={}, vector=[-0.081848525, 0.049250595, -0.05642753, -0.07500303, -0.026175769, 0.15784425, -0.020574672, 0.021652335, -0.15522148, 0.14487934, -0.053416733, -0.10444589, 0.133894, 0.028754726, 0.14460385, 0.0548869, -0.052491292, 0.021180881, -0.0076429946, 0.046403702, -0.081400566, -0.046901185, 0.16104479, -0.13520226, -0.15969715, -0.076859385, -0.12798838, 0.1111087, 0.124482654, 0.018521555, -0.15238266, 0.0995741, 0.07485504, 0.018584013, 0.13472272, 0.013595922, 0.06334386, 0.08788974, 0.07879927, 0.08329085, 0.13320057, -0.093587436, -0.060724217, -0.021416731, -0.13062835, -0.093445234, 0.15905072, -0.06418568, -0.12524576, 0.13703172, -0.0707779, 0.040144436, -0.11288204, 0.028241927, 0.09272545, -0.14238633, 0.008967953, -0.15166266, 0.07885542, -0.10319364, -0.13904452, -0.104139805, -0.040709805, -0.15726705, -0.018016478, 0.07094921, 0.019557524, 0.15087946, -0.061295107, 0.036022615, 0.1448673, 0.10906737, 0.05126475, -0.09513444, -0.14229795, 0.05130558, -0.00867454, 0.0840317, -0.10661057, -0.049852952, 0.10153206, -0.1131137, -0.11605325, 0.15250537, -0.12322503, -0.13146228, 0.008057972, -0.03799588, -0.11920748, -0.052665714, -0.15398413, -0.003866385, -0.099723, 0.15918288, 0.12515861, -0.11620437, -0.06399103, -0.1334871, -0.10621057, 0.13148768], shard_key=None, order_value=None),\n",
       " Record(id=34, payload={}, vector=[-0.15238704, 0.159822, 0.0017679873, -0.14942786, -0.030646726, -0.13508181, 0.11816873, -0.08511625, -0.1488525, -0.045827456, -0.12460163, -0.10081797, -0.13543905, 0.07577503, -0.1046742, 0.08733084, -0.040927235, -0.17212173, -0.100451216, -0.1423878, -0.13269633, -0.0038842133, 0.17146449, -0.12105013, -0.059326142, -0.12856072, -0.08503177, 0.11948307, -0.15186042, 0.04456682, 0.12358701, 0.12423937, -0.0032374684, -0.01976338, -0.151805, -0.029915035, 0.17647533, -0.041044787, -0.008316019, -0.00081282156, 0.113689534, 0.09292755, -0.035688538, -0.10044788, -0.0039060435, 0.17054056, -0.02154475, -0.12874961, -0.074120834, 0.13436724, 0.05393357, 0.1029822, 0.14730944, 0.17245468, -0.052891295, -0.16235147, -0.0282229, 0.092095956, 0.015832732, -0.05360641, 0.04119921, -0.088486105, 0.06776323, 0.15623395, -0.05444469, 0.0348222, -0.10524082, 0.0653008, 0.058211703, -0.15871699, 0.16870975, -0.008552172, -0.1442656, -0.09983211, 0.10095323, 0.13086359, -0.014368411, -0.13803636, 0.024247255, 0.024687698, 0.05148873, 0.055304438, -0.05271585, -0.043551244, 0.16406333, -0.0021217, 0.05570928, 0.049350206, -0.002360752, 0.034098107, -0.032021172, -0.10772121, -0.14482766, 0.014916047, -0.047140095, 0.023004018, 0.09513545, 0.03488097, 0.088823505, 0.12810728], shard_key=None, order_value=None),\n",
       " Record(id=764, payload={}, vector=[-0.15376964, -0.02772298, 0.16342348, 0.13010035, -0.14836447, -0.10361516, -0.13072623, -0.16175345, 0.15694673, -0.15053336, 0.011901988, 0.021709232, -0.14162788, 0.13041219, -0.03588299, 0.10376452, 0.11211456, 0.03898762, 0.12687851, 0.072408676, -0.06794991, 0.09907205, 0.01886213, 0.10934941, 0.13825925, -0.041453045, 0.01151646, 0.05411283, -0.07883539, 0.11942131, 0.09422221, 0.13476641, 0.15480565, -0.03202593, 0.14925186, -0.025955234, -0.0825814, -0.015006879, -0.044639047, 0.15227894, 0.1309738, -0.097164094, 0.025090577, 0.07394946, 0.0078671435, 0.00033040764, -0.00448917, -0.11856827, -0.15205258, -0.100360155, -0.006214498, -0.0070544565, -0.03148148, -0.024799535, -0.047117602, 0.06695173, -0.020738792, 0.08655111, 0.03726929, 0.022191694, -0.02619388, 0.12266412, 0.025132705, -0.14686394, -0.03126479, 0.14016008, 0.08201511, 0.111931324, -0.15066181, -0.123771444, -0.055349655, -0.15982728, 0.1331483, -0.0014578854, -0.14115287, 0.14821821, 0.08142562, 0.049498115, -0.052615408, 0.1008672, 0.123657234, 0.10867509, 0.13462064, 0.13903314, -0.01593871, -0.10685383, -0.08250337, -0.093986414, 0.000549029, 0.095658235, 0.076111175, 0.03498054, -0.14281076, 0.042566698, 0.15730971, 0.12654892, 0.09082263, 0.14396788, 0.14431961, 0.0075487625], shard_key=None, order_value=None)]"
      ]
     },
     "execution_count": 15,
     "metadata": {},
     "output_type": "execute_result"
    }
   ],
   "source": [
    "client.retrieve(\n",
    "    collection_name=collection_name,\n",
    "    ids = [1,34,764],\n",
    "    with_vectors=True\n",
    ")"
   ]
  },
  {
   "cell_type": "markdown",
   "metadata": {},
   "source": [
    "**payloads are empty because we did not added anything to them**"
   ]
  },
  {
   "cell_type": "markdown",
   "metadata": {},
   "source": [
    "# Creating Fake Data"
   ]
  },
  {
   "cell_type": "markdown",
   "metadata": {},
   "source": [
    "**Vector database consists of**\n",
    "- ids\n",
    "- vectors in list format\n",
    "- Metadata/payload containing info about the orignal data linked with vector\n"
   ]
  },
  {
   "cell_type": "code",
   "execution_count": 7,
   "metadata": {},
   "outputs": [],
   "source": [
    "vectors = np.random.uniform(low=-1,high=1,size=(1000,100))\n",
    "indx = list(range(len(vectors)))"
   ]
  },
  {
   "cell_type": "code",
   "execution_count": 18,
   "metadata": {},
   "outputs": [],
   "source": [
    "# creating fake metadata on documents for payload\n",
    "fake = Faker()\n",
    "fake_payload =[]\n",
    "for i in range(len(vectors)):\n",
    "    fake_payload.append(\n",
    "        {\n",
    "            \"writer\":fake.name(),\n",
    "            \"Title\" : \" \" .join(fake.words()),\n",
    "            \"url\"   : fake.url()\n",
    "        }\n",
    "        ) "
   ]
  },
  {
   "cell_type": "code",
   "execution_count": 20,
   "metadata": {},
   "outputs": [
    {
     "data": {
      "text/plain": [
       "{'writer': 'Laura Lane',\n",
       " 'Title': 'science may true',\n",
       " 'url': 'http://www.rodriguez.com/'}"
      ]
     },
     "execution_count": 20,
     "metadata": {},
     "output_type": "execute_result"
    }
   ],
   "source": [
    "fake_payload[0]"
   ]
  },
  {
   "cell_type": "code",
   "execution_count": 22,
   "metadata": {},
   "outputs": [
    {
     "data": {
      "text/plain": [
       "UpdateResult(operation_id=1, status=<UpdateStatus.COMPLETED: 'completed'>)"
      ]
     },
     "execution_count": 22,
     "metadata": {},
     "output_type": "execute_result"
    }
   ],
   "source": [
    "cleint.upsert(\n",
    "    collection_name=collection_name,\n",
    "    points=models.Batch(\n",
    "        ids = indx,\n",
    "        vectors= vectors.tolist(),\n",
    "        payloads=fake_payload\n",
    "    )\n",
    ")"
   ]
  },
  {
   "cell_type": "code",
   "execution_count": 23,
   "metadata": {},
   "outputs": [
    {
     "ename": "NameError",
     "evalue": "name 'client' is not defined",
     "output_type": "error",
     "traceback": [
      "\u001b[1;31m---------------------------------------------------------------------------\u001b[0m",
      "\u001b[1;31mNameError\u001b[0m                                 Traceback (most recent call last)",
      "Cell \u001b[1;32mIn[23], line 1\u001b[0m\n\u001b[1;32m----> 1\u001b[0m \u001b[43mclient\u001b[49m\u001b[38;5;241m.\u001b[39mretrieve(\n\u001b[0;32m      2\u001b[0m     collection_name\u001b[38;5;241m=\u001b[39mcollection_name,\n\u001b[0;32m      3\u001b[0m     ids \u001b[38;5;241m=\u001b[39m [\u001b[38;5;241m3\u001b[39m,\u001b[38;5;241m646\u001b[39m,\u001b[38;5;241m83\u001b[39m]\n\u001b[0;32m      4\u001b[0m )\n",
      "\u001b[1;31mNameError\u001b[0m: name 'client' is not defined"
     ]
    }
   ],
   "source": [
    "client.retrieve(\n",
    "    collection_name=collection_name,\n",
    "    ids = [3,646,83]\n",
    ")"
   ]
  },
  {
   "cell_type": "code",
   "execution_count": null,
   "metadata": {},
   "outputs": [],
   "source": []
  }
 ],
 "metadata": {
  "kernelspec": {
   "display_name": "venv",
   "language": "python",
   "name": "python3"
  },
  "language_info": {
   "codemirror_mode": {
    "name": "ipython",
    "version": 3
   },
   "file_extension": ".py",
   "mimetype": "text/x-python",
   "name": "python",
   "nbconvert_exporter": "python",
   "pygments_lexer": "ipython3",
   "version": "3.12.4"
  }
 },
 "nbformat": 4,
 "nbformat_minor": 2
}
